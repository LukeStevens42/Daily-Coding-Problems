{
 "cells": [
  {
   "cell_type": "markdown",
   "metadata": {},
   "source": [
    "Run-length encoding is a fast and simple method of encoding strings. The basic idea is to represent repeated successive characters as a single count and character. For example, the string \"AAAABBBCCDAA\" would be encoded as \"4A3B2C1D2A\".\n",
    "\n",
    "Implement run-length encoding and decoding. You can assume the string to be encoded have no digits and consists solely of alphabetic characters. You can assume the string to be decoded is valid."
   ]
  },
  {
   "cell_type": "code",
   "execution_count": 23,
   "metadata": {},
   "outputs": [],
   "source": [
    "s = 'AAAABBBCCDAA'\n",
    "s1 = 'LLLBCDAALLLDD'\n",
    "s2 = 'LLDAALLAAAABBCCDAACDAALLLDAACDAAD'"
   ]
  },
  {
   "cell_type": "code",
   "execution_count": 21,
   "metadata": {},
   "outputs": [],
   "source": [
    "def run_length_encode(s):\n",
    "    count = 0\n",
    "    initial = s[0]\n",
    "    rl = []\n",
    "    for i in range(len(s)):\n",
    "        if s[i] == initial:\n",
    "            count+=1\n",
    "        elif s[i] == s[i-1]:\n",
    "            count+=1\n",
    "        else:\n",
    "            rl.append(str(count)+s[i-1])\n",
    "            count = 1\n",
    "        initial = ''\n",
    "    rl.append(str(count)+s[-1])\n",
    "    rlString = ''.join(rl)\n",
    "    return rlString"
   ]
  },
  {
   "cell_type": "code",
   "execution_count": 26,
   "metadata": {},
   "outputs": [
    {
     "data": {
      "text/plain": [
       "'4A3B2C1D2A'"
      ]
     },
     "execution_count": 26,
     "metadata": {},
     "output_type": "execute_result"
    }
   ],
   "source": [
    "run_length_encode(s)"
   ]
  }
 ],
 "metadata": {
  "kernelspec": {
   "display_name": "Python 3",
   "language": "python",
   "name": "python3"
  },
  "language_info": {
   "codemirror_mode": {
    "name": "ipython",
    "version": 3
   },
   "file_extension": ".py",
   "mimetype": "text/x-python",
   "name": "python",
   "nbconvert_exporter": "python",
   "pygments_lexer": "ipython3",
   "version": "3.8.3"
  }
 },
 "nbformat": 4,
 "nbformat_minor": 4
}
